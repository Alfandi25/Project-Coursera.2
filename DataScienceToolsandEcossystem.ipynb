{
 "cells": [
  {
   "cell_type": "markdown",
   "id": "3e94b5c2-c437-48ee-b025-b1044888dfda",
   "metadata": {},
   "source": [
    "# Data Science Tools and Ecosystem"
   ]
  },
  {
   "cell_type": "markdown",
   "id": "7650ce84-448a-45a9-bf8d-e08f36a13c29",
   "metadata": {},
   "source": [
    "#### In this notebook, Data Science Tools and Ecosystem are summarized."
   ]
  },
  {
   "cell_type": "markdown",
   "id": "2c79068b-e625-4f2f-b48c-568bcc969faa",
   "metadata": {},
   "source": [
    "**Objective:**\n",
    "1. Phyton\n",
    "2. C\n",
    "3. Javascript"
   ]
  },
  {
   "cell_type": "markdown",
   "id": "8e659c07-06c1-43a7-bf04-cfc32eabd5b1",
   "metadata": {},
   "source": [
    "#### Some of the popular languages that Data Scientists use are:\n",
    "1. Python-\n",
    "2. C\n",
    "3. Javascript"
   ]
  },
  {
   "cell_type": "markdown",
   "id": "320b230f-3e78-4a0c-8bcb-2ee8d85c1229",
   "metadata": {},
   "source": [
    "#### Some of the commonly used libraries used by Data Scientists include:\n",
    "1. Scikit-learn: Untuk machine learning.\n",
    "2. TensorFlow dan PyTorch: Untuk deep learning.\n",
    "3. Statsmodels: Untuk analisis statistik."
   ]
  },
  {
   "cell_type": "markdown",
   "id": "4778be83-1d92-49d9-87de-2f53fefc5ed3",
   "metadata": {},
   "source": [
    " Create a markdown cell with a table of Data Science tools\n",
    "|No|Tool|\n",
    "|--|----|\n",
    "|1|pyhton|\n",
    "|2|C|\n",
    "|3|GitHub|"
   ]
  },
  {
   "cell_type": "markdown",
   "id": "b9535c8b-0dd5-4189-ba69-e2407eef7f4d",
   "metadata": {},
   "source": [
    "### Below are a few examples of evaluating arithmetic expressions in Python"
   ]
  },
  {
   "cell_type": "code",
   "execution_count": 14,
   "id": "11fe9f39-d17c-479f-aca2-4593def187d7",
   "metadata": {},
   "outputs": [
    {
     "data": {
      "text/plain": [
       "17"
      ]
     },
     "execution_count": 14,
     "metadata": {},
     "output_type": "execute_result"
    }
   ],
   "source": [
    "# This a simple arithmetic expression to mutiply then add integers\n",
    "(3*4)+5"
   ]
  },
  {
   "cell_type": "code",
   "execution_count": 15,
   "id": "04a2776e-2e63-4486-99b9-b584f8cfe7e2",
   "metadata": {},
   "outputs": [
    {
     "name": "stdout",
     "output_type": "stream",
     "text": [
      "3.3333333333333335\n"
     ]
    }
   ],
   "source": [
    "#This will convert 200 minutes to hours by diving by 60\n",
    "Minutes= 200\n",
    "Hour=Minutes/60\n",
    "print(Hour)"
   ]
  },
  {
   "cell_type": "markdown",
   "id": "339d181a-5015-4ea1-a96c-79f336c5e811",
   "metadata": {},
   "source": [
    "## Author\n",
    "Rahmad Alfandi"
   ]
  }
 ],
 "metadata": {
  "kernelspec": {
   "display_name": "Python 3 (ipykernel)",
   "language": "python",
   "name": "python3"
  },
  "language_info": {
   "codemirror_mode": {
    "name": "ipython",
    "version": 3
   },
   "file_extension": ".py",
   "mimetype": "text/x-python",
   "name": "python",
   "nbconvert_exporter": "python",
   "pygments_lexer": "ipython3",
   "version": "3.12.7"
  }
 },
 "nbformat": 4,
 "nbformat_minor": 5
}
